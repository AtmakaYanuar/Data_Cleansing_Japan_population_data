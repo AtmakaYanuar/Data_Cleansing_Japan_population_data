{
  "nbformat": 4,
  "nbformat_minor": 0,
  "metadata": {
    "colab": {
      "provenance": [],
      "authorship_tag": "ABX9TyNV1OvdjA8McdiQhiDNFs8y",
      "include_colab_link": true
    },
    "kernelspec": {
      "name": "python3",
      "display_name": "Python 3"
    },
    "language_info": {
      "name": "python"
    }
  },
  "cells": [
    {
      "cell_type": "markdown",
      "metadata": {
        "id": "view-in-github",
        "colab_type": "text"
      },
      "source": [
        "<a href=\"https://colab.research.google.com/github/AtmakaYanuar/Data_Cleansing_Japan_population_data/blob/main/2318085DataCleansing.ipynb\" target=\"_parent\"><img src=\"https://colab.research.google.com/assets/colab-badge.svg\" alt=\"Open In Colab\"/></a>"
      ]
    },
    {
      "cell_type": "markdown",
      "source": [
        "#1. Import Dataset dan Load Dataset"
      ],
      "metadata": {
        "id": "Y82EZRx4dBOs"
      }
    },
    {
      "cell_type": "code",
      "execution_count": 3,
      "metadata": {
        "id": "ZKueWML-cwJg"
      },
      "outputs": [],
      "source": [
        "import pandas as pd\n",
        "import numpy as np"
      ]
    },
    {
      "cell_type": "code",
      "source": [
        "# Langkah 1: Mount Google Drive\n",
        "from google.colab import drive\n",
        "drive.mount('/content/drive')"
      ],
      "metadata": {
        "colab": {
          "base_uri": "https://localhost:8080/"
        },
        "id": "COstVQaWdZe0",
        "outputId": "cb024966-78ce-49cf-80c9-9fca22b90626"
      },
      "execution_count": 4,
      "outputs": [
        {
          "output_type": "stream",
          "name": "stdout",
          "text": [
            "Drive already mounted at /content/drive; to attempt to forcibly remount, call drive.mount(\"/content/drive\", force_remount=True).\n"
          ]
        }
      ]
    },
    {
      "cell_type": "code",
      "source": [
        "# Load dataset\n",
        "file_path = \"/content/drive/MyDrive/Data Mining/Japan_population_data.csv\"# ganti sesuai path di Colab\n",
        "df_dirty = pd.read_csv(file_path)"
      ],
      "metadata": {
        "id": "ekPgy7vhfSS2"
      },
      "execution_count": 5,
      "outputs": []
    },
    {
      "cell_type": "markdown",
      "source": [
        "# 2. Baca Dataset pelanggan yang kotor"
      ],
      "metadata": {
        "id": "Vwo27cvhfcRG"
      }
    },
    {
      "cell_type": "code",
      "source": [
        "# Baca Dataset pelanggan yang kotor\n",
        "import pandas as pd\n",
        "\n",
        "df = pd.read_csv(\"/content/drive/MyDrive/Data Mining/Japan_population_data.csv\")\n",
        "df.head()"
      ],
      "metadata": {
        "colab": {
          "base_uri": "https://localhost:8080/",
          "height": 206
        },
        "id": "rxIKwAkNffV2",
        "outputId": "3ba4b63c-535f-49b1-bb7e-b237c63dea66"
      },
      "execution_count": 6,
      "outputs": [
        {
          "output_type": "execute_result",
          "data": {
            "text/plain": [
              "  prefecture       year  population     capital region  estimated_area  island\n",
              "0  Aichi-ken  1872.1667   1210368.0  Nagoya-shi  Chubu         5165.12  Honshu\n",
              "1  Aichi-ken  1873.0000   1217444.0  Nagoya-shi  Chubu         5165.12  Honshu\n",
              "2  Aichi-ken  1874.0000   1217521.0  Nagoya-shi  Chubu         5165.12  Honshu\n",
              "3  Aichi-ken  1875.0000   1234003.0  Nagoya-shi  Chubu         5165.12  Honshu\n",
              "4  Aichi-ken  1876.0000   1244711.0  Nagoya-shi  Chubu         5165.12  Honshu"
            ],
            "text/html": [
              "\n",
              "  <div id=\"df-cc4f2e2a-3dbe-4967-96bb-fb866c89a22e\" class=\"colab-df-container\">\n",
              "    <div>\n",
              "<style scoped>\n",
              "    .dataframe tbody tr th:only-of-type {\n",
              "        vertical-align: middle;\n",
              "    }\n",
              "\n",
              "    .dataframe tbody tr th {\n",
              "        vertical-align: top;\n",
              "    }\n",
              "\n",
              "    .dataframe thead th {\n",
              "        text-align: right;\n",
              "    }\n",
              "</style>\n",
              "<table border=\"1\" class=\"dataframe\">\n",
              "  <thead>\n",
              "    <tr style=\"text-align: right;\">\n",
              "      <th></th>\n",
              "      <th>prefecture</th>\n",
              "      <th>year</th>\n",
              "      <th>population</th>\n",
              "      <th>capital</th>\n",
              "      <th>region</th>\n",
              "      <th>estimated_area</th>\n",
              "      <th>island</th>\n",
              "    </tr>\n",
              "  </thead>\n",
              "  <tbody>\n",
              "    <tr>\n",
              "      <th>0</th>\n",
              "      <td>Aichi-ken</td>\n",
              "      <td>1872.1667</td>\n",
              "      <td>1210368.0</td>\n",
              "      <td>Nagoya-shi</td>\n",
              "      <td>Chubu</td>\n",
              "      <td>5165.12</td>\n",
              "      <td>Honshu</td>\n",
              "    </tr>\n",
              "    <tr>\n",
              "      <th>1</th>\n",
              "      <td>Aichi-ken</td>\n",
              "      <td>1873.0000</td>\n",
              "      <td>1217444.0</td>\n",
              "      <td>Nagoya-shi</td>\n",
              "      <td>Chubu</td>\n",
              "      <td>5165.12</td>\n",
              "      <td>Honshu</td>\n",
              "    </tr>\n",
              "    <tr>\n",
              "      <th>2</th>\n",
              "      <td>Aichi-ken</td>\n",
              "      <td>1874.0000</td>\n",
              "      <td>1217521.0</td>\n",
              "      <td>Nagoya-shi</td>\n",
              "      <td>Chubu</td>\n",
              "      <td>5165.12</td>\n",
              "      <td>Honshu</td>\n",
              "    </tr>\n",
              "    <tr>\n",
              "      <th>3</th>\n",
              "      <td>Aichi-ken</td>\n",
              "      <td>1875.0000</td>\n",
              "      <td>1234003.0</td>\n",
              "      <td>Nagoya-shi</td>\n",
              "      <td>Chubu</td>\n",
              "      <td>5165.12</td>\n",
              "      <td>Honshu</td>\n",
              "    </tr>\n",
              "    <tr>\n",
              "      <th>4</th>\n",
              "      <td>Aichi-ken</td>\n",
              "      <td>1876.0000</td>\n",
              "      <td>1244711.0</td>\n",
              "      <td>Nagoya-shi</td>\n",
              "      <td>Chubu</td>\n",
              "      <td>5165.12</td>\n",
              "      <td>Honshu</td>\n",
              "    </tr>\n",
              "  </tbody>\n",
              "</table>\n",
              "</div>\n",
              "    <div class=\"colab-df-buttons\">\n",
              "\n",
              "  <div class=\"colab-df-container\">\n",
              "    <button class=\"colab-df-convert\" onclick=\"convertToInteractive('df-cc4f2e2a-3dbe-4967-96bb-fb866c89a22e')\"\n",
              "            title=\"Convert this dataframe to an interactive table.\"\n",
              "            style=\"display:none;\">\n",
              "\n",
              "  <svg xmlns=\"http://www.w3.org/2000/svg\" height=\"24px\" viewBox=\"0 -960 960 960\">\n",
              "    <path d=\"M120-120v-720h720v720H120Zm60-500h600v-160H180v160Zm220 220h160v-160H400v160Zm0 220h160v-160H400v160ZM180-400h160v-160H180v160Zm440 0h160v-160H620v160ZM180-180h160v-160H180v160Zm440 0h160v-160H620v160Z\"/>\n",
              "  </svg>\n",
              "    </button>\n",
              "\n",
              "  <style>\n",
              "    .colab-df-container {\n",
              "      display:flex;\n",
              "      gap: 12px;\n",
              "    }\n",
              "\n",
              "    .colab-df-convert {\n",
              "      background-color: #E8F0FE;\n",
              "      border: none;\n",
              "      border-radius: 50%;\n",
              "      cursor: pointer;\n",
              "      display: none;\n",
              "      fill: #1967D2;\n",
              "      height: 32px;\n",
              "      padding: 0 0 0 0;\n",
              "      width: 32px;\n",
              "    }\n",
              "\n",
              "    .colab-df-convert:hover {\n",
              "      background-color: #E2EBFA;\n",
              "      box-shadow: 0px 1px 2px rgba(60, 64, 67, 0.3), 0px 1px 3px 1px rgba(60, 64, 67, 0.15);\n",
              "      fill: #174EA6;\n",
              "    }\n",
              "\n",
              "    .colab-df-buttons div {\n",
              "      margin-bottom: 4px;\n",
              "    }\n",
              "\n",
              "    [theme=dark] .colab-df-convert {\n",
              "      background-color: #3B4455;\n",
              "      fill: #D2E3FC;\n",
              "    }\n",
              "\n",
              "    [theme=dark] .colab-df-convert:hover {\n",
              "      background-color: #434B5C;\n",
              "      box-shadow: 0px 1px 3px 1px rgba(0, 0, 0, 0.15);\n",
              "      filter: drop-shadow(0px 1px 2px rgba(0, 0, 0, 0.3));\n",
              "      fill: #FFFFFF;\n",
              "    }\n",
              "  </style>\n",
              "\n",
              "    <script>\n",
              "      const buttonEl =\n",
              "        document.querySelector('#df-cc4f2e2a-3dbe-4967-96bb-fb866c89a22e button.colab-df-convert');\n",
              "      buttonEl.style.display =\n",
              "        google.colab.kernel.accessAllowed ? 'block' : 'none';\n",
              "\n",
              "      async function convertToInteractive(key) {\n",
              "        const element = document.querySelector('#df-cc4f2e2a-3dbe-4967-96bb-fb866c89a22e');\n",
              "        const dataTable =\n",
              "          await google.colab.kernel.invokeFunction('convertToInteractive',\n",
              "                                                    [key], {});\n",
              "        if (!dataTable) return;\n",
              "\n",
              "        const docLinkHtml = 'Like what you see? Visit the ' +\n",
              "          '<a target=\"_blank\" href=https://colab.research.google.com/notebooks/data_table.ipynb>data table notebook</a>'\n",
              "          + ' to learn more about interactive tables.';\n",
              "        element.innerHTML = '';\n",
              "        dataTable['output_type'] = 'display_data';\n",
              "        await google.colab.output.renderOutput(dataTable, element);\n",
              "        const docLink = document.createElement('div');\n",
              "        docLink.innerHTML = docLinkHtml;\n",
              "        element.appendChild(docLink);\n",
              "      }\n",
              "    </script>\n",
              "  </div>\n",
              "\n",
              "\n",
              "    <div id=\"df-f2fa6d6e-8b4f-4dfc-8613-6bbe9493d6eb\">\n",
              "      <button class=\"colab-df-quickchart\" onclick=\"quickchart('df-f2fa6d6e-8b4f-4dfc-8613-6bbe9493d6eb')\"\n",
              "                title=\"Suggest charts\"\n",
              "                style=\"display:none;\">\n",
              "\n",
              "<svg xmlns=\"http://www.w3.org/2000/svg\" height=\"24px\"viewBox=\"0 0 24 24\"\n",
              "     width=\"24px\">\n",
              "    <g>\n",
              "        <path d=\"M19 3H5c-1.1 0-2 .9-2 2v14c0 1.1.9 2 2 2h14c1.1 0 2-.9 2-2V5c0-1.1-.9-2-2-2zM9 17H7v-7h2v7zm4 0h-2V7h2v10zm4 0h-2v-4h2v4z\"/>\n",
              "    </g>\n",
              "</svg>\n",
              "      </button>\n",
              "\n",
              "<style>\n",
              "  .colab-df-quickchart {\n",
              "      --bg-color: #E8F0FE;\n",
              "      --fill-color: #1967D2;\n",
              "      --hover-bg-color: #E2EBFA;\n",
              "      --hover-fill-color: #174EA6;\n",
              "      --disabled-fill-color: #AAA;\n",
              "      --disabled-bg-color: #DDD;\n",
              "  }\n",
              "\n",
              "  [theme=dark] .colab-df-quickchart {\n",
              "      --bg-color: #3B4455;\n",
              "      --fill-color: #D2E3FC;\n",
              "      --hover-bg-color: #434B5C;\n",
              "      --hover-fill-color: #FFFFFF;\n",
              "      --disabled-bg-color: #3B4455;\n",
              "      --disabled-fill-color: #666;\n",
              "  }\n",
              "\n",
              "  .colab-df-quickchart {\n",
              "    background-color: var(--bg-color);\n",
              "    border: none;\n",
              "    border-radius: 50%;\n",
              "    cursor: pointer;\n",
              "    display: none;\n",
              "    fill: var(--fill-color);\n",
              "    height: 32px;\n",
              "    padding: 0;\n",
              "    width: 32px;\n",
              "  }\n",
              "\n",
              "  .colab-df-quickchart:hover {\n",
              "    background-color: var(--hover-bg-color);\n",
              "    box-shadow: 0 1px 2px rgba(60, 64, 67, 0.3), 0 1px 3px 1px rgba(60, 64, 67, 0.15);\n",
              "    fill: var(--button-hover-fill-color);\n",
              "  }\n",
              "\n",
              "  .colab-df-quickchart-complete:disabled,\n",
              "  .colab-df-quickchart-complete:disabled:hover {\n",
              "    background-color: var(--disabled-bg-color);\n",
              "    fill: var(--disabled-fill-color);\n",
              "    box-shadow: none;\n",
              "  }\n",
              "\n",
              "  .colab-df-spinner {\n",
              "    border: 2px solid var(--fill-color);\n",
              "    border-color: transparent;\n",
              "    border-bottom-color: var(--fill-color);\n",
              "    animation:\n",
              "      spin 1s steps(1) infinite;\n",
              "  }\n",
              "\n",
              "  @keyframes spin {\n",
              "    0% {\n",
              "      border-color: transparent;\n",
              "      border-bottom-color: var(--fill-color);\n",
              "      border-left-color: var(--fill-color);\n",
              "    }\n",
              "    20% {\n",
              "      border-color: transparent;\n",
              "      border-left-color: var(--fill-color);\n",
              "      border-top-color: var(--fill-color);\n",
              "    }\n",
              "    30% {\n",
              "      border-color: transparent;\n",
              "      border-left-color: var(--fill-color);\n",
              "      border-top-color: var(--fill-color);\n",
              "      border-right-color: var(--fill-color);\n",
              "    }\n",
              "    40% {\n",
              "      border-color: transparent;\n",
              "      border-right-color: var(--fill-color);\n",
              "      border-top-color: var(--fill-color);\n",
              "    }\n",
              "    60% {\n",
              "      border-color: transparent;\n",
              "      border-right-color: var(--fill-color);\n",
              "    }\n",
              "    80% {\n",
              "      border-color: transparent;\n",
              "      border-right-color: var(--fill-color);\n",
              "      border-bottom-color: var(--fill-color);\n",
              "    }\n",
              "    90% {\n",
              "      border-color: transparent;\n",
              "      border-bottom-color: var(--fill-color);\n",
              "    }\n",
              "  }\n",
              "</style>\n",
              "\n",
              "      <script>\n",
              "        async function quickchart(key) {\n",
              "          const quickchartButtonEl =\n",
              "            document.querySelector('#' + key + ' button');\n",
              "          quickchartButtonEl.disabled = true;  // To prevent multiple clicks.\n",
              "          quickchartButtonEl.classList.add('colab-df-spinner');\n",
              "          try {\n",
              "            const charts = await google.colab.kernel.invokeFunction(\n",
              "                'suggestCharts', [key], {});\n",
              "          } catch (error) {\n",
              "            console.error('Error during call to suggestCharts:', error);\n",
              "          }\n",
              "          quickchartButtonEl.classList.remove('colab-df-spinner');\n",
              "          quickchartButtonEl.classList.add('colab-df-quickchart-complete');\n",
              "        }\n",
              "        (() => {\n",
              "          let quickchartButtonEl =\n",
              "            document.querySelector('#df-f2fa6d6e-8b4f-4dfc-8613-6bbe9493d6eb button');\n",
              "          quickchartButtonEl.style.display =\n",
              "            google.colab.kernel.accessAllowed ? 'block' : 'none';\n",
              "        })();\n",
              "      </script>\n",
              "    </div>\n",
              "\n",
              "    </div>\n",
              "  </div>\n"
            ],
            "application/vnd.google.colaboratory.intrinsic+json": {
              "type": "dataframe",
              "variable_name": "df",
              "summary": "{\n  \"name\": \"df\",\n  \"rows\": 2632,\n  \"fields\": [\n    {\n      \"column\": \"prefecture\",\n      \"properties\": {\n        \"dtype\": \"category\",\n        \"num_unique_values\": 47,\n        \"samples\": [\n          \"Nara-ken\",\n          \"Tokushima-ken\",\n          \"Nagasaki-ken\"\n        ],\n        \"semantic_type\": \"\",\n        \"description\": \"\"\n      }\n    },\n    {\n      \"column\": \"year\",\n      \"properties\": {\n        \"dtype\": \"number\",\n        \"std\": 42.59959507678022,\n        \"min\": 1872.1667,\n        \"max\": 2015.75,\n        \"num_unique_values\": 56,\n        \"samples\": [\n          1872.1667,\n          1877.0,\n          1925.75\n        ],\n        \"semantic_type\": \"\",\n        \"description\": \"\"\n      }\n    },\n    {\n      \"column\": \"population\",\n      \"properties\": {\n        \"dtype\": \"number\",\n        \"std\": 1383747.8854617702,\n        \"min\": 122705.0,\n        \"max\": 13513734.0,\n        \"num_unique_values\": 2538,\n        \"samples\": [\n          1149501.0,\n          1099676.0,\n          1031156.0\n        ],\n        \"semantic_type\": \"\",\n        \"description\": \"\"\n      }\n    },\n    {\n      \"column\": \"capital\",\n      \"properties\": {\n        \"dtype\": \"category\",\n        \"num_unique_values\": 47,\n        \"samples\": [\n          \"Nara-shi\",\n          \"Tokushima-shi\",\n          \"Nagasaki-shi\"\n        ],\n        \"semantic_type\": \"\",\n        \"description\": \"\"\n      }\n    },\n    {\n      \"column\": \"region\",\n      \"properties\": {\n        \"dtype\": \"category\",\n        \"num_unique_values\": 8,\n        \"samples\": [\n          \"Tohoku\",\n          \"Chugoku\",\n          \"Chubu\"\n        ],\n        \"semantic_type\": \"\",\n        \"description\": \"\"\n      }\n    },\n    {\n      \"column\": \"estimated_area\",\n      \"properties\": {\n        \"dtype\": \"number\",\n        \"std\": 11576.962579963316,\n        \"min\": 1876.55,\n        \"max\": 83457.0,\n        \"num_unique_values\": 47,\n        \"samples\": [\n          3691.09,\n          4146.74,\n          4105.47\n        ],\n        \"semantic_type\": \"\",\n        \"description\": \"\"\n      }\n    },\n    {\n      \"column\": \"island\",\n      \"properties\": {\n        \"dtype\": \"category\",\n        \"num_unique_values\": 5,\n        \"samples\": [\n          \"Shikoku\",\n          \"Ryukyu Islands\",\n          \"Kyushu\"\n        ],\n        \"semantic_type\": \"\",\n        \"description\": \"\"\n      }\n    }\n  ]\n}"
            }
          },
          "metadata": {},
          "execution_count": 6
        }
      ]
    },
    {
      "cell_type": "code",
      "source": [
        "# cek ukuran dataset\n",
        "print(\"Ukuran dataset:\", df.shape)\n",
        "\n",
        "# info detail\n",
        "print(\"\\nInformasi dataset:\")\n",
        "print(df.info())\n",
        "\n",
        "# tampilkan beberapa baris data\n",
        "df.head()"
      ],
      "metadata": {
        "colab": {
          "base_uri": "https://localhost:8080/",
          "height": 519
        },
        "id": "MJpiAY2BgNQ5",
        "outputId": "20ad5b8a-cac4-4038-bd1d-6bafb245dcf9"
      },
      "execution_count": 7,
      "outputs": [
        {
          "output_type": "stream",
          "name": "stdout",
          "text": [
            "Ukuran dataset: (2632, 7)\n",
            "\n",
            "Informasi dataset:\n",
            "<class 'pandas.core.frame.DataFrame'>\n",
            "RangeIndex: 2632 entries, 0 to 2631\n",
            "Data columns (total 7 columns):\n",
            " #   Column          Non-Null Count  Dtype  \n",
            "---  ------          --------------  -----  \n",
            " 0   prefecture      2632 non-null   object \n",
            " 1   year            2632 non-null   float64\n",
            " 2   population      2540 non-null   float64\n",
            " 3   capital         2632 non-null   object \n",
            " 4   region          2632 non-null   object \n",
            " 5   estimated_area  2632 non-null   float64\n",
            " 6   island          2632 non-null   object \n",
            "dtypes: float64(3), object(4)\n",
            "memory usage: 144.1+ KB\n",
            "None\n"
          ]
        },
        {
          "output_type": "execute_result",
          "data": {
            "text/plain": [
              "  prefecture       year  population     capital region  estimated_area  island\n",
              "0  Aichi-ken  1872.1667   1210368.0  Nagoya-shi  Chubu         5165.12  Honshu\n",
              "1  Aichi-ken  1873.0000   1217444.0  Nagoya-shi  Chubu         5165.12  Honshu\n",
              "2  Aichi-ken  1874.0000   1217521.0  Nagoya-shi  Chubu         5165.12  Honshu\n",
              "3  Aichi-ken  1875.0000   1234003.0  Nagoya-shi  Chubu         5165.12  Honshu\n",
              "4  Aichi-ken  1876.0000   1244711.0  Nagoya-shi  Chubu         5165.12  Honshu"
            ],
            "text/html": [
              "\n",
              "  <div id=\"df-8d851be3-56f5-4f2e-a2b7-df808b66f8a8\" class=\"colab-df-container\">\n",
              "    <div>\n",
              "<style scoped>\n",
              "    .dataframe tbody tr th:only-of-type {\n",
              "        vertical-align: middle;\n",
              "    }\n",
              "\n",
              "    .dataframe tbody tr th {\n",
              "        vertical-align: top;\n",
              "    }\n",
              "\n",
              "    .dataframe thead th {\n",
              "        text-align: right;\n",
              "    }\n",
              "</style>\n",
              "<table border=\"1\" class=\"dataframe\">\n",
              "  <thead>\n",
              "    <tr style=\"text-align: right;\">\n",
              "      <th></th>\n",
              "      <th>prefecture</th>\n",
              "      <th>year</th>\n",
              "      <th>population</th>\n",
              "      <th>capital</th>\n",
              "      <th>region</th>\n",
              "      <th>estimated_area</th>\n",
              "      <th>island</th>\n",
              "    </tr>\n",
              "  </thead>\n",
              "  <tbody>\n",
              "    <tr>\n",
              "      <th>0</th>\n",
              "      <td>Aichi-ken</td>\n",
              "      <td>1872.1667</td>\n",
              "      <td>1210368.0</td>\n",
              "      <td>Nagoya-shi</td>\n",
              "      <td>Chubu</td>\n",
              "      <td>5165.12</td>\n",
              "      <td>Honshu</td>\n",
              "    </tr>\n",
              "    <tr>\n",
              "      <th>1</th>\n",
              "      <td>Aichi-ken</td>\n",
              "      <td>1873.0000</td>\n",
              "      <td>1217444.0</td>\n",
              "      <td>Nagoya-shi</td>\n",
              "      <td>Chubu</td>\n",
              "      <td>5165.12</td>\n",
              "      <td>Honshu</td>\n",
              "    </tr>\n",
              "    <tr>\n",
              "      <th>2</th>\n",
              "      <td>Aichi-ken</td>\n",
              "      <td>1874.0000</td>\n",
              "      <td>1217521.0</td>\n",
              "      <td>Nagoya-shi</td>\n",
              "      <td>Chubu</td>\n",
              "      <td>5165.12</td>\n",
              "      <td>Honshu</td>\n",
              "    </tr>\n",
              "    <tr>\n",
              "      <th>3</th>\n",
              "      <td>Aichi-ken</td>\n",
              "      <td>1875.0000</td>\n",
              "      <td>1234003.0</td>\n",
              "      <td>Nagoya-shi</td>\n",
              "      <td>Chubu</td>\n",
              "      <td>5165.12</td>\n",
              "      <td>Honshu</td>\n",
              "    </tr>\n",
              "    <tr>\n",
              "      <th>4</th>\n",
              "      <td>Aichi-ken</td>\n",
              "      <td>1876.0000</td>\n",
              "      <td>1244711.0</td>\n",
              "      <td>Nagoya-shi</td>\n",
              "      <td>Chubu</td>\n",
              "      <td>5165.12</td>\n",
              "      <td>Honshu</td>\n",
              "    </tr>\n",
              "  </tbody>\n",
              "</table>\n",
              "</div>\n",
              "    <div class=\"colab-df-buttons\">\n",
              "\n",
              "  <div class=\"colab-df-container\">\n",
              "    <button class=\"colab-df-convert\" onclick=\"convertToInteractive('df-8d851be3-56f5-4f2e-a2b7-df808b66f8a8')\"\n",
              "            title=\"Convert this dataframe to an interactive table.\"\n",
              "            style=\"display:none;\">\n",
              "\n",
              "  <svg xmlns=\"http://www.w3.org/2000/svg\" height=\"24px\" viewBox=\"0 -960 960 960\">\n",
              "    <path d=\"M120-120v-720h720v720H120Zm60-500h600v-160H180v160Zm220 220h160v-160H400v160Zm0 220h160v-160H400v160ZM180-400h160v-160H180v160Zm440 0h160v-160H620v160ZM180-180h160v-160H180v160Zm440 0h160v-160H620v160Z\"/>\n",
              "  </svg>\n",
              "    </button>\n",
              "\n",
              "  <style>\n",
              "    .colab-df-container {\n",
              "      display:flex;\n",
              "      gap: 12px;\n",
              "    }\n",
              "\n",
              "    .colab-df-convert {\n",
              "      background-color: #E8F0FE;\n",
              "      border: none;\n",
              "      border-radius: 50%;\n",
              "      cursor: pointer;\n",
              "      display: none;\n",
              "      fill: #1967D2;\n",
              "      height: 32px;\n",
              "      padding: 0 0 0 0;\n",
              "      width: 32px;\n",
              "    }\n",
              "\n",
              "    .colab-df-convert:hover {\n",
              "      background-color: #E2EBFA;\n",
              "      box-shadow: 0px 1px 2px rgba(60, 64, 67, 0.3), 0px 1px 3px 1px rgba(60, 64, 67, 0.15);\n",
              "      fill: #174EA6;\n",
              "    }\n",
              "\n",
              "    .colab-df-buttons div {\n",
              "      margin-bottom: 4px;\n",
              "    }\n",
              "\n",
              "    [theme=dark] .colab-df-convert {\n",
              "      background-color: #3B4455;\n",
              "      fill: #D2E3FC;\n",
              "    }\n",
              "\n",
              "    [theme=dark] .colab-df-convert:hover {\n",
              "      background-color: #434B5C;\n",
              "      box-shadow: 0px 1px 3px 1px rgba(0, 0, 0, 0.15);\n",
              "      filter: drop-shadow(0px 1px 2px rgba(0, 0, 0, 0.3));\n",
              "      fill: #FFFFFF;\n",
              "    }\n",
              "  </style>\n",
              "\n",
              "    <script>\n",
              "      const buttonEl =\n",
              "        document.querySelector('#df-8d851be3-56f5-4f2e-a2b7-df808b66f8a8 button.colab-df-convert');\n",
              "      buttonEl.style.display =\n",
              "        google.colab.kernel.accessAllowed ? 'block' : 'none';\n",
              "\n",
              "      async function convertToInteractive(key) {\n",
              "        const element = document.querySelector('#df-8d851be3-56f5-4f2e-a2b7-df808b66f8a8');\n",
              "        const dataTable =\n",
              "          await google.colab.kernel.invokeFunction('convertToInteractive',\n",
              "                                                    [key], {});\n",
              "        if (!dataTable) return;\n",
              "\n",
              "        const docLinkHtml = 'Like what you see? Visit the ' +\n",
              "          '<a target=\"_blank\" href=https://colab.research.google.com/notebooks/data_table.ipynb>data table notebook</a>'\n",
              "          + ' to learn more about interactive tables.';\n",
              "        element.innerHTML = '';\n",
              "        dataTable['output_type'] = 'display_data';\n",
              "        await google.colab.output.renderOutput(dataTable, element);\n",
              "        const docLink = document.createElement('div');\n",
              "        docLink.innerHTML = docLinkHtml;\n",
              "        element.appendChild(docLink);\n",
              "      }\n",
              "    </script>\n",
              "  </div>\n",
              "\n",
              "\n",
              "    <div id=\"df-fb288bb8-cf42-4dbf-9b25-f5c0047f691b\">\n",
              "      <button class=\"colab-df-quickchart\" onclick=\"quickchart('df-fb288bb8-cf42-4dbf-9b25-f5c0047f691b')\"\n",
              "                title=\"Suggest charts\"\n",
              "                style=\"display:none;\">\n",
              "\n",
              "<svg xmlns=\"http://www.w3.org/2000/svg\" height=\"24px\"viewBox=\"0 0 24 24\"\n",
              "     width=\"24px\">\n",
              "    <g>\n",
              "        <path d=\"M19 3H5c-1.1 0-2 .9-2 2v14c0 1.1.9 2 2 2h14c1.1 0 2-.9 2-2V5c0-1.1-.9-2-2-2zM9 17H7v-7h2v7zm4 0h-2V7h2v10zm4 0h-2v-4h2v4z\"/>\n",
              "    </g>\n",
              "</svg>\n",
              "      </button>\n",
              "\n",
              "<style>\n",
              "  .colab-df-quickchart {\n",
              "      --bg-color: #E8F0FE;\n",
              "      --fill-color: #1967D2;\n",
              "      --hover-bg-color: #E2EBFA;\n",
              "      --hover-fill-color: #174EA6;\n",
              "      --disabled-fill-color: #AAA;\n",
              "      --disabled-bg-color: #DDD;\n",
              "  }\n",
              "\n",
              "  [theme=dark] .colab-df-quickchart {\n",
              "      --bg-color: #3B4455;\n",
              "      --fill-color: #D2E3FC;\n",
              "      --hover-bg-color: #434B5C;\n",
              "      --hover-fill-color: #FFFFFF;\n",
              "      --disabled-bg-color: #3B4455;\n",
              "      --disabled-fill-color: #666;\n",
              "  }\n",
              "\n",
              "  .colab-df-quickchart {\n",
              "    background-color: var(--bg-color);\n",
              "    border: none;\n",
              "    border-radius: 50%;\n",
              "    cursor: pointer;\n",
              "    display: none;\n",
              "    fill: var(--fill-color);\n",
              "    height: 32px;\n",
              "    padding: 0;\n",
              "    width: 32px;\n",
              "  }\n",
              "\n",
              "  .colab-df-quickchart:hover {\n",
              "    background-color: var(--hover-bg-color);\n",
              "    box-shadow: 0 1px 2px rgba(60, 64, 67, 0.3), 0 1px 3px 1px rgba(60, 64, 67, 0.15);\n",
              "    fill: var(--button-hover-fill-color);\n",
              "  }\n",
              "\n",
              "  .colab-df-quickchart-complete:disabled,\n",
              "  .colab-df-quickchart-complete:disabled:hover {\n",
              "    background-color: var(--disabled-bg-color);\n",
              "    fill: var(--disabled-fill-color);\n",
              "    box-shadow: none;\n",
              "  }\n",
              "\n",
              "  .colab-df-spinner {\n",
              "    border: 2px solid var(--fill-color);\n",
              "    border-color: transparent;\n",
              "    border-bottom-color: var(--fill-color);\n",
              "    animation:\n",
              "      spin 1s steps(1) infinite;\n",
              "  }\n",
              "\n",
              "  @keyframes spin {\n",
              "    0% {\n",
              "      border-color: transparent;\n",
              "      border-bottom-color: var(--fill-color);\n",
              "      border-left-color: var(--fill-color);\n",
              "    }\n",
              "    20% {\n",
              "      border-color: transparent;\n",
              "      border-left-color: var(--fill-color);\n",
              "      border-top-color: var(--fill-color);\n",
              "    }\n",
              "    30% {\n",
              "      border-color: transparent;\n",
              "      border-left-color: var(--fill-color);\n",
              "      border-top-color: var(--fill-color);\n",
              "      border-right-color: var(--fill-color);\n",
              "    }\n",
              "    40% {\n",
              "      border-color: transparent;\n",
              "      border-right-color: var(--fill-color);\n",
              "      border-top-color: var(--fill-color);\n",
              "    }\n",
              "    60% {\n",
              "      border-color: transparent;\n",
              "      border-right-color: var(--fill-color);\n",
              "    }\n",
              "    80% {\n",
              "      border-color: transparent;\n",
              "      border-right-color: var(--fill-color);\n",
              "      border-bottom-color: var(--fill-color);\n",
              "    }\n",
              "    90% {\n",
              "      border-color: transparent;\n",
              "      border-bottom-color: var(--fill-color);\n",
              "    }\n",
              "  }\n",
              "</style>\n",
              "\n",
              "      <script>\n",
              "        async function quickchart(key) {\n",
              "          const quickchartButtonEl =\n",
              "            document.querySelector('#' + key + ' button');\n",
              "          quickchartButtonEl.disabled = true;  // To prevent multiple clicks.\n",
              "          quickchartButtonEl.classList.add('colab-df-spinner');\n",
              "          try {\n",
              "            const charts = await google.colab.kernel.invokeFunction(\n",
              "                'suggestCharts', [key], {});\n",
              "          } catch (error) {\n",
              "            console.error('Error during call to suggestCharts:', error);\n",
              "          }\n",
              "          quickchartButtonEl.classList.remove('colab-df-spinner');\n",
              "          quickchartButtonEl.classList.add('colab-df-quickchart-complete');\n",
              "        }\n",
              "        (() => {\n",
              "          let quickchartButtonEl =\n",
              "            document.querySelector('#df-fb288bb8-cf42-4dbf-9b25-f5c0047f691b button');\n",
              "          quickchartButtonEl.style.display =\n",
              "            google.colab.kernel.accessAllowed ? 'block' : 'none';\n",
              "        })();\n",
              "      </script>\n",
              "    </div>\n",
              "\n",
              "    </div>\n",
              "  </div>\n"
            ],
            "application/vnd.google.colaboratory.intrinsic+json": {
              "type": "dataframe",
              "variable_name": "df",
              "summary": "{\n  \"name\": \"df\",\n  \"rows\": 2632,\n  \"fields\": [\n    {\n      \"column\": \"prefecture\",\n      \"properties\": {\n        \"dtype\": \"category\",\n        \"num_unique_values\": 47,\n        \"samples\": [\n          \"Nara-ken\",\n          \"Tokushima-ken\",\n          \"Nagasaki-ken\"\n        ],\n        \"semantic_type\": \"\",\n        \"description\": \"\"\n      }\n    },\n    {\n      \"column\": \"year\",\n      \"properties\": {\n        \"dtype\": \"number\",\n        \"std\": 42.59959507678022,\n        \"min\": 1872.1667,\n        \"max\": 2015.75,\n        \"num_unique_values\": 56,\n        \"samples\": [\n          1872.1667,\n          1877.0,\n          1925.75\n        ],\n        \"semantic_type\": \"\",\n        \"description\": \"\"\n      }\n    },\n    {\n      \"column\": \"population\",\n      \"properties\": {\n        \"dtype\": \"number\",\n        \"std\": 1383747.8854617702,\n        \"min\": 122705.0,\n        \"max\": 13513734.0,\n        \"num_unique_values\": 2538,\n        \"samples\": [\n          1149501.0,\n          1099676.0,\n          1031156.0\n        ],\n        \"semantic_type\": \"\",\n        \"description\": \"\"\n      }\n    },\n    {\n      \"column\": \"capital\",\n      \"properties\": {\n        \"dtype\": \"category\",\n        \"num_unique_values\": 47,\n        \"samples\": [\n          \"Nara-shi\",\n          \"Tokushima-shi\",\n          \"Nagasaki-shi\"\n        ],\n        \"semantic_type\": \"\",\n        \"description\": \"\"\n      }\n    },\n    {\n      \"column\": \"region\",\n      \"properties\": {\n        \"dtype\": \"category\",\n        \"num_unique_values\": 8,\n        \"samples\": [\n          \"Tohoku\",\n          \"Chugoku\",\n          \"Chubu\"\n        ],\n        \"semantic_type\": \"\",\n        \"description\": \"\"\n      }\n    },\n    {\n      \"column\": \"estimated_area\",\n      \"properties\": {\n        \"dtype\": \"number\",\n        \"std\": 11576.962579963316,\n        \"min\": 1876.55,\n        \"max\": 83457.0,\n        \"num_unique_values\": 47,\n        \"samples\": [\n          3691.09,\n          4146.74,\n          4105.47\n        ],\n        \"semantic_type\": \"\",\n        \"description\": \"\"\n      }\n    },\n    {\n      \"column\": \"island\",\n      \"properties\": {\n        \"dtype\": \"category\",\n        \"num_unique_values\": 5,\n        \"samples\": [\n          \"Shikoku\",\n          \"Ryukyu Islands\",\n          \"Kyushu\"\n        ],\n        \"semantic_type\": \"\",\n        \"description\": \"\"\n      }\n    }\n  ]\n}"
            }
          },
          "metadata": {},
          "execution_count": 7
        }
      ]
    },
    {
      "cell_type": "markdown",
      "source": [
        "# 3. Mengecek Missing Value\n",
        "\n"
      ],
      "metadata": {
        "id": "kYE6qfCnhorP"
      }
    },
    {
      "cell_type": "code",
      "source": [
        "# Cek apakah ada data yang hilang (missing values)\n",
        "print(\"Jumlah missing value per kolom:\\n\")\n",
        "print(df.isnull().sum())\n",
        "\n",
        "# Cek persentase missing value per kolom\n",
        "print(\"\\nPersentase missing value per kolom:\\n\")\n",
        "print((df.isnull().mean() * 100).round(2))\n"
      ],
      "metadata": {
        "colab": {
          "base_uri": "https://localhost:8080/"
        },
        "id": "6Q0RATqshpOe",
        "outputId": "4cee0704-0d93-4ec6-beea-01c0b9a6873b"
      },
      "execution_count": 8,
      "outputs": [
        {
          "output_type": "stream",
          "name": "stdout",
          "text": [
            "Jumlah missing value per kolom:\n",
            "\n",
            "prefecture         0\n",
            "year               0\n",
            "population        92\n",
            "capital            0\n",
            "region             0\n",
            "estimated_area     0\n",
            "island             0\n",
            "dtype: int64\n",
            "\n",
            "Persentase missing value per kolom:\n",
            "\n",
            "prefecture        0.0\n",
            "year              0.0\n",
            "population        3.5\n",
            "capital           0.0\n",
            "region            0.0\n",
            "estimated_area    0.0\n",
            "island            0.0\n",
            "dtype: float64\n"
          ]
        }
      ]
    },
    {
      "cell_type": "markdown",
      "source": [
        "# 4. Perbaikan Missing Value"
      ],
      "metadata": {
        "id": "kFB4XLF8h6ud"
      }
    },
    {
      "cell_type": "code",
      "source": [
        "# hapus semua baris yang ada missing value\n",
        "df_clean = df.dropna()\n",
        "\n",
        "print(\"Ukuran data sebelum:\", df.shape)\n",
        "print(\"Ukuran data sesudah:\", df_clean.shape)\n"
      ],
      "metadata": {
        "colab": {
          "base_uri": "https://localhost:8080/"
        },
        "id": "onjfL-eXh6X1",
        "outputId": "f881a2ea-f8d3-47c3-83a5-1c4c90986859"
      },
      "execution_count": 9,
      "outputs": [
        {
          "output_type": "stream",
          "name": "stdout",
          "text": [
            "Ukuran data sebelum: (2632, 7)\n",
            "Ukuran data sesudah: (2540, 7)\n"
          ]
        }
      ]
    },
    {
      "cell_type": "markdown",
      "source": [
        "# 5. Cek Ulang Perbaikan Mising Value"
      ],
      "metadata": {
        "id": "l5DEsLAekRoe"
      }
    },
    {
      "cell_type": "code",
      "source": [
        "# Cek ulang apakah masih ada missing value\n",
        "print(\"Jumlah missing value per kolom setelah perbaikan:\\n\")\n",
        "print(df.isnull().sum())\n",
        "\n",
        "# Kalau mau lebih yakin, cek total missing value di seluruh dataset\n",
        "print(\"\\nTotal missing value di semua kolom:\", df.isnull().sum().sum())\n"
      ],
      "metadata": {
        "colab": {
          "base_uri": "https://localhost:8080/"
        },
        "id": "k_ovTqC-kV92",
        "outputId": "402c6f28-ae5b-457e-9d41-8b7daca18cd8"
      },
      "execution_count": 11,
      "outputs": [
        {
          "output_type": "stream",
          "name": "stdout",
          "text": [
            "Jumlah missing value per kolom setelah perbaikan:\n",
            "\n",
            "prefecture        0\n",
            "year              0\n",
            "population        0\n",
            "capital           0\n",
            "region            0\n",
            "estimated_area    0\n",
            "island            0\n",
            "dtype: int64\n",
            "\n",
            "Total missing value di semua kolom: 0\n"
          ]
        }
      ]
    },
    {
      "cell_type": "markdown",
      "source": [
        "# 6. Cek & Hapus Duplikasi"
      ],
      "metadata": {
        "id": "XhVxJms5lAdX"
      }
    },
    {
      "cell_type": "code",
      "source": [
        "# Hitung jumlah baris yang benar-benar sama (duplikat) di seluruh DataFrame df_dirty\n",
        "dup_count = df_dirty.duplicated().sum()\n",
        "print(f\"Jumlah baris duplikat: {dup_count}\")"
      ],
      "metadata": {
        "colab": {
          "base_uri": "https://localhost:8080/"
        },
        "id": "5rBxJki9lC8e",
        "outputId": "dcbf19c8-cbb2-4d60-8501-146d56c4583e"
      },
      "execution_count": 12,
      "outputs": [
        {
          "output_type": "stream",
          "name": "stdout",
          "text": [
            "Jumlah baris duplikat: 0\n"
          ]
        }
      ]
    },
    {
      "cell_type": "code",
      "source": [
        "display(df_dirty[df_dirty.duplicated()].head())"
      ],
      "metadata": {
        "colab": {
          "base_uri": "https://localhost:8080/",
          "height": 53
        },
        "id": "I_-afFG0lIa9",
        "outputId": "dde2b85e-8297-4b0a-b262-edb322cfcaa3"
      },
      "execution_count": 13,
      "outputs": [
        {
          "output_type": "display_data",
          "data": {
            "text/plain": [
              "Empty DataFrame\n",
              "Columns: [prefecture, year, population, capital, region, estimated_area, island]\n",
              "Index: []"
            ],
            "text/html": [
              "\n",
              "  <div id=\"df-f9f5ae66-d4da-4d59-b03e-b13c4a180f4f\" class=\"colab-df-container\">\n",
              "    <div>\n",
              "<style scoped>\n",
              "    .dataframe tbody tr th:only-of-type {\n",
              "        vertical-align: middle;\n",
              "    }\n",
              "\n",
              "    .dataframe tbody tr th {\n",
              "        vertical-align: top;\n",
              "    }\n",
              "\n",
              "    .dataframe thead th {\n",
              "        text-align: right;\n",
              "    }\n",
              "</style>\n",
              "<table border=\"1\" class=\"dataframe\">\n",
              "  <thead>\n",
              "    <tr style=\"text-align: right;\">\n",
              "      <th></th>\n",
              "      <th>prefecture</th>\n",
              "      <th>year</th>\n",
              "      <th>population</th>\n",
              "      <th>capital</th>\n",
              "      <th>region</th>\n",
              "      <th>estimated_area</th>\n",
              "      <th>island</th>\n",
              "    </tr>\n",
              "  </thead>\n",
              "  <tbody>\n",
              "  </tbody>\n",
              "</table>\n",
              "</div>\n",
              "    <div class=\"colab-df-buttons\">\n",
              "\n",
              "  <div class=\"colab-df-container\">\n",
              "    <button class=\"colab-df-convert\" onclick=\"convertToInteractive('df-f9f5ae66-d4da-4d59-b03e-b13c4a180f4f')\"\n",
              "            title=\"Convert this dataframe to an interactive table.\"\n",
              "            style=\"display:none;\">\n",
              "\n",
              "  <svg xmlns=\"http://www.w3.org/2000/svg\" height=\"24px\" viewBox=\"0 -960 960 960\">\n",
              "    <path d=\"M120-120v-720h720v720H120Zm60-500h600v-160H180v160Zm220 220h160v-160H400v160Zm0 220h160v-160H400v160ZM180-400h160v-160H180v160Zm440 0h160v-160H620v160ZM180-180h160v-160H180v160Zm440 0h160v-160H620v160Z\"/>\n",
              "  </svg>\n",
              "    </button>\n",
              "\n",
              "  <style>\n",
              "    .colab-df-container {\n",
              "      display:flex;\n",
              "      gap: 12px;\n",
              "    }\n",
              "\n",
              "    .colab-df-convert {\n",
              "      background-color: #E8F0FE;\n",
              "      border: none;\n",
              "      border-radius: 50%;\n",
              "      cursor: pointer;\n",
              "      display: none;\n",
              "      fill: #1967D2;\n",
              "      height: 32px;\n",
              "      padding: 0 0 0 0;\n",
              "      width: 32px;\n",
              "    }\n",
              "\n",
              "    .colab-df-convert:hover {\n",
              "      background-color: #E2EBFA;\n",
              "      box-shadow: 0px 1px 2px rgba(60, 64, 67, 0.3), 0px 1px 3px 1px rgba(60, 64, 67, 0.15);\n",
              "      fill: #174EA6;\n",
              "    }\n",
              "\n",
              "    .colab-df-buttons div {\n",
              "      margin-bottom: 4px;\n",
              "    }\n",
              "\n",
              "    [theme=dark] .colab-df-convert {\n",
              "      background-color: #3B4455;\n",
              "      fill: #D2E3FC;\n",
              "    }\n",
              "\n",
              "    [theme=dark] .colab-df-convert:hover {\n",
              "      background-color: #434B5C;\n",
              "      box-shadow: 0px 1px 3px 1px rgba(0, 0, 0, 0.15);\n",
              "      filter: drop-shadow(0px 1px 2px rgba(0, 0, 0, 0.3));\n",
              "      fill: #FFFFFF;\n",
              "    }\n",
              "  </style>\n",
              "\n",
              "    <script>\n",
              "      const buttonEl =\n",
              "        document.querySelector('#df-f9f5ae66-d4da-4d59-b03e-b13c4a180f4f button.colab-df-convert');\n",
              "      buttonEl.style.display =\n",
              "        google.colab.kernel.accessAllowed ? 'block' : 'none';\n",
              "\n",
              "      async function convertToInteractive(key) {\n",
              "        const element = document.querySelector('#df-f9f5ae66-d4da-4d59-b03e-b13c4a180f4f');\n",
              "        const dataTable =\n",
              "          await google.colab.kernel.invokeFunction('convertToInteractive',\n",
              "                                                    [key], {});\n",
              "        if (!dataTable) return;\n",
              "\n",
              "        const docLinkHtml = 'Like what you see? Visit the ' +\n",
              "          '<a target=\"_blank\" href=https://colab.research.google.com/notebooks/data_table.ipynb>data table notebook</a>'\n",
              "          + ' to learn more about interactive tables.';\n",
              "        element.innerHTML = '';\n",
              "        dataTable['output_type'] = 'display_data';\n",
              "        await google.colab.output.renderOutput(dataTable, element);\n",
              "        const docLink = document.createElement('div');\n",
              "        docLink.innerHTML = docLinkHtml;\n",
              "        element.appendChild(docLink);\n",
              "      }\n",
              "    </script>\n",
              "  </div>\n",
              "\n",
              "\n",
              "    </div>\n",
              "  </div>\n"
            ],
            "application/vnd.google.colaboratory.intrinsic+json": {
              "type": "dataframe",
              "repr_error": "Out of range float values are not JSON compliant: nan"
            }
          },
          "metadata": {}
        }
      ]
    },
    {
      "cell_type": "code",
      "source": [
        "df_clean = df_dirty.drop_duplicates()"
      ],
      "metadata": {
        "id": "hwTIlfgflLFl"
      },
      "execution_count": 14,
      "outputs": []
    },
    {
      "cell_type": "code",
      "source": [
        "before = df_dirty.shape[0]\n",
        "after = df_clean.shape[0]\n",
        "print(f\"Jumlah baris sebelum cleaning: {before}\")\n",
        "print(f\"Jumlah baris setelah cleaning: {after}\")\n",
        "print(f\"Jumlah baris yang terhapus (duplikat): {before - after}\")"
      ],
      "metadata": {
        "colab": {
          "base_uri": "https://localhost:8080/"
        },
        "id": "sEQJrAuwleRm",
        "outputId": "95b704c6-2616-4903-ba48-f6616418a379"
      },
      "execution_count": 15,
      "outputs": [
        {
          "output_type": "stream",
          "name": "stdout",
          "text": [
            "Jumlah baris sebelum cleaning: 2632\n",
            "Jumlah baris setelah cleaning: 2632\n",
            "Jumlah baris yang terhapus (duplikat): 0\n"
          ]
        }
      ]
    },
    {
      "cell_type": "markdown",
      "source": [
        "# **7. Cek Outlier Pada Kolom year**"
      ],
      "metadata": {
        "id": "TD2JZ_h3lup6"
      }
    },
    {
      "cell_type": "code",
      "source": [
        "# Perbaikan kolom year -> bulatkan ke integer\n",
        "df_clean['year'] = df_clean['year'].round().astype(int)\n",
        "\n",
        "# Cek ulang tahun setelah dibulatkan\n",
        "print(\"=== Cek Ulang Tahun Setelah Dibersihkan ===\")\n",
        "print(\"Tahun minimum:\", df_clean['year'].min())\n",
        "print(\"Tahun maksimum:\", df_clean['year'].max())\n",
        "print(\"Contoh data:\")\n",
        "print(df_clean[['prefecture', 'year', 'population']].head(10))"
      ],
      "metadata": {
        "colab": {
          "base_uri": "https://localhost:8080/"
        },
        "id": "DoDQWboFlvxq",
        "outputId": "09e2a9f0-85a0-4e8c-98f3-8ba7e582f1b4"
      },
      "execution_count": 16,
      "outputs": [
        {
          "output_type": "stream",
          "name": "stdout",
          "text": [
            "=== Cek Ulang Tahun Setelah Dibersihkan ===\n",
            "Tahun minimum: 1872\n",
            "Tahun maksimum: 2016\n",
            "Contoh data:\n",
            "  prefecture  year  population\n",
            "0  Aichi-ken  1872   1210368.0\n",
            "1  Aichi-ken  1873   1217444.0\n",
            "2  Aichi-ken  1874   1217521.0\n",
            "3  Aichi-ken  1875   1234003.0\n",
            "4  Aichi-ken  1876   1244711.0\n",
            "5  Aichi-ken  1877   1250839.0\n",
            "6  Aichi-ken  1878   1267206.0\n",
            "7  Aichi-ken  1879   1295452.0\n",
            "8  Aichi-ken  1880   1303812.0\n",
            "9  Aichi-ken  1881   1317792.0\n"
          ]
        }
      ]
    },
    {
      "cell_type": "markdown",
      "source": [
        "# **8. Standarisasi Format Data**"
      ],
      "metadata": {
        "id": "0IAVNU9gngNj"
      }
    },
    {
      "cell_type": "code",
      "source": [
        "# === Step 8.1: Standarisasi kolom prefecture ===\n",
        "# ubah ke huruf kecil + hapus spasi berlebih\n",
        "df_clean['prefecture'] = df_clean['prefecture'].str.strip().str.lower()\n",
        "\n",
        "# cek hasil standarisasi\n",
        "print(\"=== Contoh kolom prefecture setelah standarisasi ===\")\n",
        "print(df_clean['prefecture'].head(10))"
      ],
      "metadata": {
        "colab": {
          "base_uri": "https://localhost:8080/"
        },
        "id": "gq1noqIdngwu",
        "outputId": "c0d9f1ba-5828-46a9-df2b-f1dcac587182"
      },
      "execution_count": 17,
      "outputs": [
        {
          "output_type": "stream",
          "name": "stdout",
          "text": [
            "=== Contoh kolom prefecture setelah standarisasi ===\n",
            "0    aichi-ken\n",
            "1    aichi-ken\n",
            "2    aichi-ken\n",
            "3    aichi-ken\n",
            "4    aichi-ken\n",
            "5    aichi-ken\n",
            "6    aichi-ken\n",
            "7    aichi-ken\n",
            "8    aichi-ken\n",
            "9    aichi-ken\n",
            "Name: prefecture, dtype: object\n"
          ]
        }
      ]
    },
    {
      "cell_type": "code",
      "source": [
        "\n",
        "print(\"\\n=== Info Tipe Data Setelah Standarisasi ===\")\n",
        "print(df_clean.dtypes)"
      ],
      "metadata": {
        "colab": {
          "base_uri": "https://localhost:8080/"
        },
        "id": "Z-ZQko7vn6Xt",
        "outputId": "ab75b847-26c2-45b9-c34c-102d262ad5aa"
      },
      "execution_count": 18,
      "outputs": [
        {
          "output_type": "stream",
          "name": "stdout",
          "text": [
            "\n",
            "=== Info Tipe Data Setelah Standarisasi ===\n",
            "prefecture         object\n",
            "year                int64\n",
            "population        float64\n",
            "capital            object\n",
            "region             object\n",
            "estimated_area    float64\n",
            "island             object\n",
            "dtype: object\n"
          ]
        }
      ]
    },
    {
      "cell_type": "code",
      "source": [
        "df_clean['year'] = df_clean['year'].astype(int)"
      ],
      "metadata": {
        "id": "1mAnHgVHn-hL"
      },
      "execution_count": 19,
      "outputs": []
    },
    {
      "cell_type": "markdown",
      "source": [
        "# **9. Cek Nilai Tidak Valid**"
      ],
      "metadata": {
        "id": "mEebVDqskLob"
      }
    },
    {
      "cell_type": "code",
      "source": [
        "# Cek nilai tidak valid pada year\n",
        "print(\"=== Nilai tidak valid pada year ===\")\n",
        "invalid_years = df[(df['year'] < 1870) | (df['year'] > 2025)]\n",
        "print(invalid_years['year'].unique())"
      ],
      "metadata": {
        "colab": {
          "base_uri": "https://localhost:8080/"
        },
        "id": "61r-ATGykdFC",
        "outputId": "3408d88f-4dd9-449f-bf48-4e29e8bd290d"
      },
      "execution_count": 20,
      "outputs": [
        {
          "output_type": "stream",
          "name": "stdout",
          "text": [
            "=== Nilai tidak valid pada year ===\n",
            "[]\n"
          ]
        }
      ]
    },
    {
      "cell_type": "markdown",
      "source": [
        "# **10. Cek Kolom Tidak Relevan**"
      ],
      "metadata": {
        "id": "p_4r78RJkr_6"
      }
    },
    {
      "cell_type": "code",
      "source": [
        "# Cek jumlah nilai unik per kolom\n",
        "print(\"=== Jumlah nilai unik per kolom ===\")\n",
        "print(df.nunique())"
      ],
      "metadata": {
        "colab": {
          "base_uri": "https://localhost:8080/"
        },
        "id": "RTlZNIZVksm7",
        "outputId": "81cbcd2e-21fa-430e-faf8-defaf0c5ccd1"
      },
      "execution_count": 21,
      "outputs": [
        {
          "output_type": "stream",
          "name": "stdout",
          "text": [
            "=== Jumlah nilai unik per kolom ===\n",
            "prefecture          47\n",
            "year                56\n",
            "population        2539\n",
            "capital             47\n",
            "region               8\n",
            "estimated_area      47\n",
            "island               5\n",
            "dtype: int64\n"
          ]
        }
      ]
    },
    {
      "cell_type": "code",
      "source": [
        "# Identifikasi kolom kandidat tidak relevan\n",
        "irrelevant_cols = []\n",
        "\n",
        "# Kolom dengan 1 nilai unik\n",
        "single_value_cols = df.nunique()[df.nunique() == 1].index.tolist()\n",
        "irrelevant_cols.extend(single_value_cols)"
      ],
      "metadata": {
        "id": "1_CWDMzfkv8i"
      },
      "execution_count": 22,
      "outputs": []
    },
    {
      "cell_type": "code",
      "source": [
        "# Hapus kolom tidak relevan\n",
        "df = df.drop(columns=set(irrelevant_cols), errors='ignore')\n",
        "\n",
        "print(\"\\n=== Setelah perbaikan ===\")\n",
        "print(\"Kolom dataset sekarang:\", df.columns.tolist())"
      ],
      "metadata": {
        "colab": {
          "base_uri": "https://localhost:8080/"
        },
        "id": "Od69PEe9kzFb",
        "outputId": "b25e8ac5-c117-4302-91f0-bdaf78e6f1c9"
      },
      "execution_count": 23,
      "outputs": [
        {
          "output_type": "stream",
          "name": "stdout",
          "text": [
            "\n",
            "=== Setelah perbaikan ===\n",
            "Kolom dataset sekarang: ['prefecture', 'year', 'population', 'capital', 'region', 'estimated_area', 'island']\n"
          ]
        }
      ]
    },
    {
      "cell_type": "markdown",
      "source": [
        "# **11. Dataset Setelah Cleansing**\n",
        "Menampilkan dataset akhir setelah proses cleansing:  \n",
        "- Tidak ada missing value penting  \n",
        "- Tidak ada duplikasi  \n",
        "- Standarisasi (Kolom title → huruf kecil + hapus spasi berlebih)  \n",
        "- Standarisasi (Kolom island dan region → periksa konsistensi ejaan)\n",
        "- Standarisasi (Kolom year → diubah ke format integer)\n",
        "- Tidak ada nilai yang tidak valid\n",
        "- Tidak ada Kolong Tidak Relevan"
      ],
      "metadata": {
        "id": "Xe4mREnak71K"
      }
    },
    {
      "cell_type": "code",
      "source": [
        "# === Tampilkan hasil dataset setelah cleansing ===\n",
        "\n",
        "df['year'] = df['year'].round(0)\n",
        "df['year'] = df['year'].astype(int)\n",
        "print(\"=== Preview Dataset Bersih ===\")\n",
        "display(df.head(10)) #Menampilkan 10 baris pertama dataset untuk melihat hasil akhir\n",
        "\n",
        "print(\"\\n=== Info Dataset Bersih ===\")\n",
        "print(df.info()) #Menampilkan ringkasan informasi dataset, termasuk tipe data (Dtype) dan jumlah data non-null\n",
        "\n",
        "print(\"\\n=== Jumlah Baris & Kolom Dataset Bersih ===\")\n",
        "print(df.shape) #Menampilkan jumlah total baris dan kolom dataset setelah proses cleansing"
      ],
      "metadata": {
        "colab": {
          "base_uri": "https://localhost:8080/",
          "height": 728
        },
        "id": "L_KzLi73lCBT",
        "outputId": "2de85b42-e58d-44f0-bee2-2613b714c6ef"
      },
      "execution_count": 24,
      "outputs": [
        {
          "output_type": "stream",
          "name": "stdout",
          "text": [
            "=== Preview Dataset Bersih ===\n"
          ]
        },
        {
          "output_type": "display_data",
          "data": {
            "text/plain": [
              "  prefecture  year  population     capital region  estimated_area  island\n",
              "0  Aichi-ken  1872   1210368.0  Nagoya-shi  Chubu         5165.12  Honshu\n",
              "1  Aichi-ken  1873   1217444.0  Nagoya-shi  Chubu         5165.12  Honshu\n",
              "2  Aichi-ken  1874   1217521.0  Nagoya-shi  Chubu         5165.12  Honshu\n",
              "3  Aichi-ken  1875   1234003.0  Nagoya-shi  Chubu         5165.12  Honshu\n",
              "4  Aichi-ken  1876   1244711.0  Nagoya-shi  Chubu         5165.12  Honshu\n",
              "5  Aichi-ken  1877   1250839.0  Nagoya-shi  Chubu         5165.12  Honshu\n",
              "6  Aichi-ken  1878   1267206.0  Nagoya-shi  Chubu         5165.12  Honshu\n",
              "7  Aichi-ken  1879   1295452.0  Nagoya-shi  Chubu         5165.12  Honshu\n",
              "8  Aichi-ken  1880   1303812.0  Nagoya-shi  Chubu         5165.12  Honshu\n",
              "9  Aichi-ken  1881   1317792.0  Nagoya-shi  Chubu         5165.12  Honshu"
            ],
            "text/html": [
              "\n",
              "  <div id=\"df-a39f7843-0c69-42af-8de8-5fee9e4d7276\" class=\"colab-df-container\">\n",
              "    <div>\n",
              "<style scoped>\n",
              "    .dataframe tbody tr th:only-of-type {\n",
              "        vertical-align: middle;\n",
              "    }\n",
              "\n",
              "    .dataframe tbody tr th {\n",
              "        vertical-align: top;\n",
              "    }\n",
              "\n",
              "    .dataframe thead th {\n",
              "        text-align: right;\n",
              "    }\n",
              "</style>\n",
              "<table border=\"1\" class=\"dataframe\">\n",
              "  <thead>\n",
              "    <tr style=\"text-align: right;\">\n",
              "      <th></th>\n",
              "      <th>prefecture</th>\n",
              "      <th>year</th>\n",
              "      <th>population</th>\n",
              "      <th>capital</th>\n",
              "      <th>region</th>\n",
              "      <th>estimated_area</th>\n",
              "      <th>island</th>\n",
              "    </tr>\n",
              "  </thead>\n",
              "  <tbody>\n",
              "    <tr>\n",
              "      <th>0</th>\n",
              "      <td>Aichi-ken</td>\n",
              "      <td>1872</td>\n",
              "      <td>1210368.0</td>\n",
              "      <td>Nagoya-shi</td>\n",
              "      <td>Chubu</td>\n",
              "      <td>5165.12</td>\n",
              "      <td>Honshu</td>\n",
              "    </tr>\n",
              "    <tr>\n",
              "      <th>1</th>\n",
              "      <td>Aichi-ken</td>\n",
              "      <td>1873</td>\n",
              "      <td>1217444.0</td>\n",
              "      <td>Nagoya-shi</td>\n",
              "      <td>Chubu</td>\n",
              "      <td>5165.12</td>\n",
              "      <td>Honshu</td>\n",
              "    </tr>\n",
              "    <tr>\n",
              "      <th>2</th>\n",
              "      <td>Aichi-ken</td>\n",
              "      <td>1874</td>\n",
              "      <td>1217521.0</td>\n",
              "      <td>Nagoya-shi</td>\n",
              "      <td>Chubu</td>\n",
              "      <td>5165.12</td>\n",
              "      <td>Honshu</td>\n",
              "    </tr>\n",
              "    <tr>\n",
              "      <th>3</th>\n",
              "      <td>Aichi-ken</td>\n",
              "      <td>1875</td>\n",
              "      <td>1234003.0</td>\n",
              "      <td>Nagoya-shi</td>\n",
              "      <td>Chubu</td>\n",
              "      <td>5165.12</td>\n",
              "      <td>Honshu</td>\n",
              "    </tr>\n",
              "    <tr>\n",
              "      <th>4</th>\n",
              "      <td>Aichi-ken</td>\n",
              "      <td>1876</td>\n",
              "      <td>1244711.0</td>\n",
              "      <td>Nagoya-shi</td>\n",
              "      <td>Chubu</td>\n",
              "      <td>5165.12</td>\n",
              "      <td>Honshu</td>\n",
              "    </tr>\n",
              "    <tr>\n",
              "      <th>5</th>\n",
              "      <td>Aichi-ken</td>\n",
              "      <td>1877</td>\n",
              "      <td>1250839.0</td>\n",
              "      <td>Nagoya-shi</td>\n",
              "      <td>Chubu</td>\n",
              "      <td>5165.12</td>\n",
              "      <td>Honshu</td>\n",
              "    </tr>\n",
              "    <tr>\n",
              "      <th>6</th>\n",
              "      <td>Aichi-ken</td>\n",
              "      <td>1878</td>\n",
              "      <td>1267206.0</td>\n",
              "      <td>Nagoya-shi</td>\n",
              "      <td>Chubu</td>\n",
              "      <td>5165.12</td>\n",
              "      <td>Honshu</td>\n",
              "    </tr>\n",
              "    <tr>\n",
              "      <th>7</th>\n",
              "      <td>Aichi-ken</td>\n",
              "      <td>1879</td>\n",
              "      <td>1295452.0</td>\n",
              "      <td>Nagoya-shi</td>\n",
              "      <td>Chubu</td>\n",
              "      <td>5165.12</td>\n",
              "      <td>Honshu</td>\n",
              "    </tr>\n",
              "    <tr>\n",
              "      <th>8</th>\n",
              "      <td>Aichi-ken</td>\n",
              "      <td>1880</td>\n",
              "      <td>1303812.0</td>\n",
              "      <td>Nagoya-shi</td>\n",
              "      <td>Chubu</td>\n",
              "      <td>5165.12</td>\n",
              "      <td>Honshu</td>\n",
              "    </tr>\n",
              "    <tr>\n",
              "      <th>9</th>\n",
              "      <td>Aichi-ken</td>\n",
              "      <td>1881</td>\n",
              "      <td>1317792.0</td>\n",
              "      <td>Nagoya-shi</td>\n",
              "      <td>Chubu</td>\n",
              "      <td>5165.12</td>\n",
              "      <td>Honshu</td>\n",
              "    </tr>\n",
              "  </tbody>\n",
              "</table>\n",
              "</div>\n",
              "    <div class=\"colab-df-buttons\">\n",
              "\n",
              "  <div class=\"colab-df-container\">\n",
              "    <button class=\"colab-df-convert\" onclick=\"convertToInteractive('df-a39f7843-0c69-42af-8de8-5fee9e4d7276')\"\n",
              "            title=\"Convert this dataframe to an interactive table.\"\n",
              "            style=\"display:none;\">\n",
              "\n",
              "  <svg xmlns=\"http://www.w3.org/2000/svg\" height=\"24px\" viewBox=\"0 -960 960 960\">\n",
              "    <path d=\"M120-120v-720h720v720H120Zm60-500h600v-160H180v160Zm220 220h160v-160H400v160Zm0 220h160v-160H400v160ZM180-400h160v-160H180v160Zm440 0h160v-160H620v160ZM180-180h160v-160H180v160Zm440 0h160v-160H620v160Z\"/>\n",
              "  </svg>\n",
              "    </button>\n",
              "\n",
              "  <style>\n",
              "    .colab-df-container {\n",
              "      display:flex;\n",
              "      gap: 12px;\n",
              "    }\n",
              "\n",
              "    .colab-df-convert {\n",
              "      background-color: #E8F0FE;\n",
              "      border: none;\n",
              "      border-radius: 50%;\n",
              "      cursor: pointer;\n",
              "      display: none;\n",
              "      fill: #1967D2;\n",
              "      height: 32px;\n",
              "      padding: 0 0 0 0;\n",
              "      width: 32px;\n",
              "    }\n",
              "\n",
              "    .colab-df-convert:hover {\n",
              "      background-color: #E2EBFA;\n",
              "      box-shadow: 0px 1px 2px rgba(60, 64, 67, 0.3), 0px 1px 3px 1px rgba(60, 64, 67, 0.15);\n",
              "      fill: #174EA6;\n",
              "    }\n",
              "\n",
              "    .colab-df-buttons div {\n",
              "      margin-bottom: 4px;\n",
              "    }\n",
              "\n",
              "    [theme=dark] .colab-df-convert {\n",
              "      background-color: #3B4455;\n",
              "      fill: #D2E3FC;\n",
              "    }\n",
              "\n",
              "    [theme=dark] .colab-df-convert:hover {\n",
              "      background-color: #434B5C;\n",
              "      box-shadow: 0px 1px 3px 1px rgba(0, 0, 0, 0.15);\n",
              "      filter: drop-shadow(0px 1px 2px rgba(0, 0, 0, 0.3));\n",
              "      fill: #FFFFFF;\n",
              "    }\n",
              "  </style>\n",
              "\n",
              "    <script>\n",
              "      const buttonEl =\n",
              "        document.querySelector('#df-a39f7843-0c69-42af-8de8-5fee9e4d7276 button.colab-df-convert');\n",
              "      buttonEl.style.display =\n",
              "        google.colab.kernel.accessAllowed ? 'block' : 'none';\n",
              "\n",
              "      async function convertToInteractive(key) {\n",
              "        const element = document.querySelector('#df-a39f7843-0c69-42af-8de8-5fee9e4d7276');\n",
              "        const dataTable =\n",
              "          await google.colab.kernel.invokeFunction('convertToInteractive',\n",
              "                                                    [key], {});\n",
              "        if (!dataTable) return;\n",
              "\n",
              "        const docLinkHtml = 'Like what you see? Visit the ' +\n",
              "          '<a target=\"_blank\" href=https://colab.research.google.com/notebooks/data_table.ipynb>data table notebook</a>'\n",
              "          + ' to learn more about interactive tables.';\n",
              "        element.innerHTML = '';\n",
              "        dataTable['output_type'] = 'display_data';\n",
              "        await google.colab.output.renderOutput(dataTable, element);\n",
              "        const docLink = document.createElement('div');\n",
              "        docLink.innerHTML = docLinkHtml;\n",
              "        element.appendChild(docLink);\n",
              "      }\n",
              "    </script>\n",
              "  </div>\n",
              "\n",
              "\n",
              "    <div id=\"df-e8c34a04-7c00-4d3a-afe2-1899b281949f\">\n",
              "      <button class=\"colab-df-quickchart\" onclick=\"quickchart('df-e8c34a04-7c00-4d3a-afe2-1899b281949f')\"\n",
              "                title=\"Suggest charts\"\n",
              "                style=\"display:none;\">\n",
              "\n",
              "<svg xmlns=\"http://www.w3.org/2000/svg\" height=\"24px\"viewBox=\"0 0 24 24\"\n",
              "     width=\"24px\">\n",
              "    <g>\n",
              "        <path d=\"M19 3H5c-1.1 0-2 .9-2 2v14c0 1.1.9 2 2 2h14c1.1 0 2-.9 2-2V5c0-1.1-.9-2-2-2zM9 17H7v-7h2v7zm4 0h-2V7h2v10zm4 0h-2v-4h2v4z\"/>\n",
              "    </g>\n",
              "</svg>\n",
              "      </button>\n",
              "\n",
              "<style>\n",
              "  .colab-df-quickchart {\n",
              "      --bg-color: #E8F0FE;\n",
              "      --fill-color: #1967D2;\n",
              "      --hover-bg-color: #E2EBFA;\n",
              "      --hover-fill-color: #174EA6;\n",
              "      --disabled-fill-color: #AAA;\n",
              "      --disabled-bg-color: #DDD;\n",
              "  }\n",
              "\n",
              "  [theme=dark] .colab-df-quickchart {\n",
              "      --bg-color: #3B4455;\n",
              "      --fill-color: #D2E3FC;\n",
              "      --hover-bg-color: #434B5C;\n",
              "      --hover-fill-color: #FFFFFF;\n",
              "      --disabled-bg-color: #3B4455;\n",
              "      --disabled-fill-color: #666;\n",
              "  }\n",
              "\n",
              "  .colab-df-quickchart {\n",
              "    background-color: var(--bg-color);\n",
              "    border: none;\n",
              "    border-radius: 50%;\n",
              "    cursor: pointer;\n",
              "    display: none;\n",
              "    fill: var(--fill-color);\n",
              "    height: 32px;\n",
              "    padding: 0;\n",
              "    width: 32px;\n",
              "  }\n",
              "\n",
              "  .colab-df-quickchart:hover {\n",
              "    background-color: var(--hover-bg-color);\n",
              "    box-shadow: 0 1px 2px rgba(60, 64, 67, 0.3), 0 1px 3px 1px rgba(60, 64, 67, 0.15);\n",
              "    fill: var(--button-hover-fill-color);\n",
              "  }\n",
              "\n",
              "  .colab-df-quickchart-complete:disabled,\n",
              "  .colab-df-quickchart-complete:disabled:hover {\n",
              "    background-color: var(--disabled-bg-color);\n",
              "    fill: var(--disabled-fill-color);\n",
              "    box-shadow: none;\n",
              "  }\n",
              "\n",
              "  .colab-df-spinner {\n",
              "    border: 2px solid var(--fill-color);\n",
              "    border-color: transparent;\n",
              "    border-bottom-color: var(--fill-color);\n",
              "    animation:\n",
              "      spin 1s steps(1) infinite;\n",
              "  }\n",
              "\n",
              "  @keyframes spin {\n",
              "    0% {\n",
              "      border-color: transparent;\n",
              "      border-bottom-color: var(--fill-color);\n",
              "      border-left-color: var(--fill-color);\n",
              "    }\n",
              "    20% {\n",
              "      border-color: transparent;\n",
              "      border-left-color: var(--fill-color);\n",
              "      border-top-color: var(--fill-color);\n",
              "    }\n",
              "    30% {\n",
              "      border-color: transparent;\n",
              "      border-left-color: var(--fill-color);\n",
              "      border-top-color: var(--fill-color);\n",
              "      border-right-color: var(--fill-color);\n",
              "    }\n",
              "    40% {\n",
              "      border-color: transparent;\n",
              "      border-right-color: var(--fill-color);\n",
              "      border-top-color: var(--fill-color);\n",
              "    }\n",
              "    60% {\n",
              "      border-color: transparent;\n",
              "      border-right-color: var(--fill-color);\n",
              "    }\n",
              "    80% {\n",
              "      border-color: transparent;\n",
              "      border-right-color: var(--fill-color);\n",
              "      border-bottom-color: var(--fill-color);\n",
              "    }\n",
              "    90% {\n",
              "      border-color: transparent;\n",
              "      border-bottom-color: var(--fill-color);\n",
              "    }\n",
              "  }\n",
              "</style>\n",
              "\n",
              "      <script>\n",
              "        async function quickchart(key) {\n",
              "          const quickchartButtonEl =\n",
              "            document.querySelector('#' + key + ' button');\n",
              "          quickchartButtonEl.disabled = true;  // To prevent multiple clicks.\n",
              "          quickchartButtonEl.classList.add('colab-df-spinner');\n",
              "          try {\n",
              "            const charts = await google.colab.kernel.invokeFunction(\n",
              "                'suggestCharts', [key], {});\n",
              "          } catch (error) {\n",
              "            console.error('Error during call to suggestCharts:', error);\n",
              "          }\n",
              "          quickchartButtonEl.classList.remove('colab-df-spinner');\n",
              "          quickchartButtonEl.classList.add('colab-df-quickchart-complete');\n",
              "        }\n",
              "        (() => {\n",
              "          let quickchartButtonEl =\n",
              "            document.querySelector('#df-e8c34a04-7c00-4d3a-afe2-1899b281949f button');\n",
              "          quickchartButtonEl.style.display =\n",
              "            google.colab.kernel.accessAllowed ? 'block' : 'none';\n",
              "        })();\n",
              "      </script>\n",
              "    </div>\n",
              "\n",
              "    </div>\n",
              "  </div>\n"
            ],
            "application/vnd.google.colaboratory.intrinsic+json": {
              "type": "dataframe",
              "summary": "{\n  \"name\": \"print(df\",\n  \"rows\": 10,\n  \"fields\": [\n    {\n      \"column\": \"prefecture\",\n      \"properties\": {\n        \"dtype\": \"category\",\n        \"num_unique_values\": 1,\n        \"samples\": [\n          \"Aichi-ken\"\n        ],\n        \"semantic_type\": \"\",\n        \"description\": \"\"\n      }\n    },\n    {\n      \"column\": \"year\",\n      \"properties\": {\n        \"dtype\": \"number\",\n        \"std\": 3,\n        \"min\": 1872,\n        \"max\": 1881,\n        \"num_unique_values\": 10,\n        \"samples\": [\n          1880\n        ],\n        \"semantic_type\": \"\",\n        \"description\": \"\"\n      }\n    },\n    {\n      \"column\": \"population\",\n      \"properties\": {\n        \"dtype\": \"number\",\n        \"std\": 38691.9805208033,\n        \"min\": 1210368.0,\n        \"max\": 1317792.0,\n        \"num_unique_values\": 10,\n        \"samples\": [\n          1303812.0\n        ],\n        \"semantic_type\": \"\",\n        \"description\": \"\"\n      }\n    },\n    {\n      \"column\": \"capital\",\n      \"properties\": {\n        \"dtype\": \"category\",\n        \"num_unique_values\": 1,\n        \"samples\": [\n          \"Nagoya-shi\"\n        ],\n        \"semantic_type\": \"\",\n        \"description\": \"\"\n      }\n    },\n    {\n      \"column\": \"region\",\n      \"properties\": {\n        \"dtype\": \"category\",\n        \"num_unique_values\": 1,\n        \"samples\": [\n          \"Chubu\"\n        ],\n        \"semantic_type\": \"\",\n        \"description\": \"\"\n      }\n    },\n    {\n      \"column\": \"estimated_area\",\n      \"properties\": {\n        \"dtype\": \"number\",\n        \"std\": 9.586915924860112e-13,\n        \"min\": 5165.12,\n        \"max\": 5165.12,\n        \"num_unique_values\": 1,\n        \"samples\": [\n          5165.12\n        ],\n        \"semantic_type\": \"\",\n        \"description\": \"\"\n      }\n    },\n    {\n      \"column\": \"island\",\n      \"properties\": {\n        \"dtype\": \"category\",\n        \"num_unique_values\": 1,\n        \"samples\": [\n          \"Honshu\"\n        ],\n        \"semantic_type\": \"\",\n        \"description\": \"\"\n      }\n    }\n  ]\n}"
            }
          },
          "metadata": {}
        },
        {
          "output_type": "stream",
          "name": "stdout",
          "text": [
            "\n",
            "=== Info Dataset Bersih ===\n",
            "<class 'pandas.core.frame.DataFrame'>\n",
            "RangeIndex: 2632 entries, 0 to 2631\n",
            "Data columns (total 7 columns):\n",
            " #   Column          Non-Null Count  Dtype  \n",
            "---  ------          --------------  -----  \n",
            " 0   prefecture      2632 non-null   object \n",
            " 1   year            2632 non-null   int64  \n",
            " 2   population      2632 non-null   float64\n",
            " 3   capital         2632 non-null   object \n",
            " 4   region          2632 non-null   object \n",
            " 5   estimated_area  2632 non-null   float64\n",
            " 6   island          2632 non-null   object \n",
            "dtypes: float64(2), int64(1), object(4)\n",
            "memory usage: 144.1+ KB\n",
            "None\n",
            "\n",
            "=== Jumlah Baris & Kolom Dataset Bersih ===\n",
            "(2632, 7)\n"
          ]
        }
      ]
    },
    {
      "cell_type": "markdown",
      "source": [
        "# **12. Kesimpulan**\n",
        "\n",
        "1.  Proses data cleansing meliputi pengecekan struktur, missing value, duplikasi, outlier, dan format.\n",
        "2. Nilai kosong ditangani dengan pengisian default atau penghapusan baris.\n",
        "3. Data duplikat berhasil dihapus agar hasil analisis tidak bias.\n",
        "4. Dilakukan standarisasi format (lowercase/uppercase, spasi, konversi tanggal).\n",
        "5. Nilai tidak wajar difilter dan diperbaiki.\n",
        "6. Kolom tidak relevan dihapus sehingga dataset lebih fokus.\n",
        "7. Dataset akhir menjadi lebih rapi, konsisten, dan siap dianalisis.\n",
        "\n",
        "\n"
      ],
      "metadata": {
        "id": "55bdjMlmlerb"
      }
    }
  ]
}